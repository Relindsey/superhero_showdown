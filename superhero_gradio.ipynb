{
 "cells": [
  {
   "cell_type": "code",
   "execution_count": null,
   "metadata": {},
   "outputs": [],
   "source": [
    "import pandas as pd\n",
    "import os\n",
    "import numpy as np\n",
    "import openai\n",
    "import gradio as gr\n",
    "from dotenv import load_dotenv\n",
    "\n",
    "\n",
    "# Load environment variables from .env file\n",
    "load_dotenv()\n",
    "\n",
    "OPENAI_API_KEY = os.getenv(\"OPENAI_API_KEY\")\n",
    "openai.api_key = OPENAI_API_KEY\n",
    "literary_score_df= pd.read_csv('Resources/literary_scored_superheroes.csv')\n",
    "def simulate_battle(score_a, score_b):\n",
    "    total_score = score_a + score_b\n",
    "    prob_a_wins = score_a / total_score\n",
    "    outcome = np.random.rand()  # Generates a random float between 0 and 1\n",
    "    return 1 if outcome < prob_a_wins else 0  # Returns 1 if A wins, 0 if B wins\n",
    "\n",
    "def describe_battle(hero1, hero2):\n",
    "    # Correctly fetch scores for hero1 and hero2 before using them\n",
    "    try:\n",
    "        score_a = literary_score_df.loc[literary_score_df['name'].str.lower() == hero1.lower(), 'hero_total_score'].iloc[0]\n",
    "        score_b = literary_score_df.loc[literary_score_df['name'].str.lower() == hero2.lower(), 'hero_total_score'].iloc[0]\n",
    "    except IndexError:\n",
    "        return \"One of the heroes not found in the dataset\", \"\"\n",
    "\n",
    "    # Simulate battle outcome based on scores\n",
    "    winner = hero1 if simulate_battle(score_a, score_b) == 1 else hero2\n",
    "    \n",
    "    # Generate the battle description using GPT (simplified example)\n",
    "    try:\n",
    "        response = openai.Completion.create(\n",
    "            model=\"gpt-3.5-turbo-instruct\",  # Adjust based on your OpenAI API plan\n",
    "            prompt=f\"Describe an epic battle between {hero1} and {hero2}, where {winner} wins.\",\n",
    "            temperature=0.7,\n",
    "            max_tokens=500\n",
    "        )\n",
    "        battle_description = response.choices[0].text.strip()\n",
    "    except Exception as e:\n",
    "        return \"Failed to generate description\", str(e)\n",
    "    \n",
    "    return winner, battle_description\n",
    "\n",
    "# Interface setup\n",
    "iface = gr.Interface(\n",
    "    fn=describe_battle,\n",
    "    inputs=[gr.Textbox(label=\"Hero 1\"), gr.Textbox(label=\"Hero 2\")],\n",
    "    outputs=[gr.Textbox(label=\"Winner\"), gr.Textbox(label=\"Battle Description\")]\n",
    ")\n",
    "\n",
    "iface.launch()"
   ]
  },
  {
   "cell_type": "code",
   "execution_count": 2,
   "metadata": {},
   "outputs": [
    {
     "name": "stdout",
     "output_type": "stream",
     "text": [
      "Running on local URL:  http://127.0.0.1:7861\n",
      "\n",
      "To create a public link, set `share=True` in `launch()`.\n"
     ]
    },
    {
     "data": {
      "text/html": [
       "<div><iframe src=\"http://127.0.0.1:7861/\" width=\"100%\" height=\"500\" allow=\"autoplay; camera; microphone; clipboard-read; clipboard-write;\" frameborder=\"0\" allowfullscreen></iframe></div>"
      ],
      "text/plain": [
       "<IPython.core.display.HTML object>"
      ]
     },
     "metadata": {},
     "output_type": "display_data"
    },
    {
     "data": {
      "text/plain": []
     },
     "execution_count": 2,
     "metadata": {},
     "output_type": "execute_result"
    }
   ],
   "source": [
    "import pandas as pd\n",
    "import os\n",
    "import numpy as np\n",
    "import openai\n",
    "import gradio as gr\n",
    "from dotenv import load_dotenv\n",
    "\n",
    "\n",
    "# Load environment variables from .env file\n",
    "load_dotenv()\n",
    "\n",
    "OPENAI_API_KEY = os.getenv(\"OPENAI_API_KEY\")\n",
    "openai.api_key = OPENAI_API_KEY\n",
    "literary_score_df= pd.read_csv('Resources/literary_scored_superheroes.csv')\n",
    "def simulate_battle(score_a, score_b):\n",
    "    total_score = score_a + score_b\n",
    "    prob_a_wins = score_a / total_score\n",
    "    outcome = np.random.rand()  # Generates a random float between 0 and 1\n",
    "    return 1 if outcome < prob_a_wins else 0  # Returns 1 if A wins, 0 if B wins\n",
    "\n",
    "def describe_battle(hero1, hero2):\n",
    "    # Correctly fetch scores for hero1 and hero2 before using them\n",
    "    try:\n",
    "        for index, row in literary_score_df.iterrows():\n",
    "            if hero1 in row['aliases']:\n",
    "                name_a=row['name']\n",
    "                score_a=row['hero_total_score']\n",
    "            if hero2 in row['aliases']:\n",
    "                name_b=row['name']\n",
    "                score_b=row['hero_total_score']\n",
    "\n",
    "    except IndexError:\n",
    "        return \"One of the heroes not found in the dataset\", \"\"\n",
    "\n",
    "    # Simulate battle outcome based on scores\n",
    "    winner = hero1 if simulate_battle(score_a, score_b) == 1 else hero2\n",
    "    \n",
    "    # Generate the battle description using GPT (simplified example)\n",
    "    try:\n",
    "        response = openai.Completion.create(\n",
    "            model=\"gpt-3.5-turbo-instruct\",  # Adjust based on your OpenAI API plan\n",
    "            prompt=f\"Describe an epic battle between {hero1} and {hero2}, where {winner} wins.\",\n",
    "            temperature=0.7,\n",
    "            max_tokens=500\n",
    "        )\n",
    "        battle_description = response.choices[0].text.strip()\n",
    "    except Exception as e:\n",
    "        return \"Failed to generate description\", str(e)\n",
    "    \n",
    "    return winner, battle_description\n",
    "\n",
    "# Interface setup\n",
    "iface = gr.Interface(\n",
    "    fn=describe_battle,\n",
    "    inputs=[gr.Textbox(label=\"Hero 1\"), gr.Textbox(label=\"Hero 2\")],\n",
    "    outputs=[gr.Textbox(label=\"Winner\"), gr.Textbox(label=\"Battle Description\")]\n",
    ")\n",
    "\n",
    "iface.launch()"
   ]
  },
  {
   "cell_type": "code",
   "execution_count": null,
   "metadata": {},
   "outputs": [],
   "source": [
    "for index, row in literary_score_df:\n",
    "    if hero1 in row['aliases']:\n",
    "        score_a=row['name']\n",
    "    if hero2 in row['aliases']:\n",
    "        score_b=row['name']\n"
   ]
  },
  {
   "cell_type": "code",
   "execution_count": null,
   "metadata": {},
   "outputs": [],
   "source": [
    "def find_name_from_aliases(df, hero_name):\n",
    "    for index, row in df.iterrows():\n",
    "        if hero_name.lower() in row['aliases']:\n",
    "            return row['name']\n",
    "    return None  # Return None if no match is found\n",
    "\n",
    "# Assuming hero1 is the hero name you're searching for\n",
    "name_match = find_name_from_aliases(df, hero1)\n",
    "\n",
    "# Now you can use the name_match to get the score\n",
    "if name_match is not None:\n",
    "    score_a = literary_score_df.loc[literary_score_df['name'].str.lower() == name_match.lower(), 'hero_total_score'].iloc[0]\n",
    "else:\n",
    "    # Handle case where no match is found\n",
    "    print(\"No match found for\", hero1)"
   ]
  }
 ],
 "metadata": {
  "kernelspec": {
   "display_name": "Python 3 (ipykernel)",
   "language": "python",
   "name": "python3"
  },
  "language_info": {
   "codemirror_mode": {
    "name": "ipython",
    "version": 3
   },
   "file_extension": ".py",
   "mimetype": "text/x-python",
   "name": "python",
   "nbconvert_exporter": "python",
   "pygments_lexer": "ipython3",
   "version": "3.11.5"
  }
 },
 "nbformat": 4,
 "nbformat_minor": 2
}
