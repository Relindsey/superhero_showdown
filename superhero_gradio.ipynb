{
 "cells": [
  {
   "cell_type": "code",
   "execution_count": 1,
   "metadata": {},
   "outputs": [
    {
     "name": "stdout",
     "output_type": "stream",
     "text": [
      "Running on local URL:  http://127.0.0.1:7860\n",
      "\n",
      "To create a public link, set `share=True` in `launch()`.\n"
     ]
    },
    {
     "data": {
      "text/html": [
       "<div><iframe src=\"http://127.0.0.1:7860/\" width=\"100%\" height=\"500\" allow=\"autoplay; camera; microphone; clipboard-read; clipboard-write;\" frameborder=\"0\" allowfullscreen></iframe></div>"
      ],
      "text/plain": [
       "<IPython.core.display.HTML object>"
      ]
     },
     "metadata": {},
     "output_type": "display_data"
    },
    {
     "data": {
      "text/plain": []
     },
     "execution_count": 1,
     "metadata": {},
     "output_type": "execute_result"
    }
   ],
   "source": [
    "import pandas as pd\n",
    "import os\n",
    "import numpy as np\n",
    "import openai\n",
    "import gradio as gr\n",
    "from dotenv import load_dotenv\n",
    "# Load environment variables from .env file\n",
    "load_dotenv()\n",
    "OPENAI_API_KEY = os.getenv(\"OPENAI_API_KEY\")\n",
    "openai.api_key = OPENAI_API_KEY\n",
    "literary_score_df= pd.read_csv('Resources/literary_scored_superheroes.csv')\n",
    "def simulate_battle(score_a, score_b):\n",
    "    total_score = score_a + score_b\n",
    "    prob_a_wins = score_a / total_score\n",
    "    outcome = np.random.rand()  # Generates a random float between 0 and 1\n",
    "    return 1 if outcome < prob_a_wins else 0  # Returns 1 if A wins, 0 if B wins\n",
    "def describe_battle(hero1, hero2):\n",
    "    # Correctly fetch scores for hero1 and hero2 before using them\n",
    "    try:\n",
    "        for index, row in literary_score_df.iterrows():\n",
    "            if hero1 in row['aliases']:\n",
    "                name_a=row['name']\n",
    "                score_a=row['hero_total_score']\n",
    "            if hero2 in row['aliases']:\n",
    "                name_b=row['name']\n",
    "                score_b=row['hero_total_score']\n",
    "    except IndexError:\n",
    "        return \"One of the heroes not found in the dataset\", \"\"\n",
    "    # Simulate battle outcome based on scores\n",
    "    winner = hero1 if simulate_battle(score_a, score_b) == 1 else hero2\n",
    "    # Generate the battle description using GPT (simplified example)\n",
    "    try:\n",
    "        response = openai.Completion.create(\n",
    "            model=\"gpt-3.5-turbo-instruct\",  # Adjust based on your OpenAI API plan\n",
    "            prompt=f\"Describe an epic battle between {hero1} and {hero2}, where {winner} wins.\",\n",
    "            temperature=0.7,\n",
    "            max_tokens=500\n",
    "        )\n",
    "        battle_description = response.choices[0].text.strip()\n",
    "    except Exception as e:\n",
    "        return \"Failed to generate description\", str(e)\n",
    "    return winner, battle_description\n",
    "# Interface setup\n",
    "iface = gr.Interface(\n",
    "    fn=describe_battle,\n",
    "    inputs=[gr.Textbox(label=\"Hero 1\"), gr.Textbox(label=\"Hero 2\")],\n",
    "    outputs=[gr.Textbox(label=\"Winner\"), gr.Textbox(label=\"Battle Description\")]\n",
    ")\n",
    "iface.launch()"
   ]
  },
  {
   "cell_type": "code",
   "execution_count": 4,
   "metadata": {},
   "outputs": [
    {
     "name": "stdout",
     "output_type": "stream",
     "text": [
      "Running on local URL:  http://127.0.0.1:7861\n",
      "\n",
      "To create a public link, set `share=True` in `launch()`.\n"
     ]
    },
    {
     "data": {
      "text/html": [
       "<div><iframe src=\"http://127.0.0.1:7861/\" width=\"100%\" height=\"500\" allow=\"autoplay; camera; microphone; clipboard-read; clipboard-write;\" frameborder=\"0\" allowfullscreen></iframe></div>"
      ],
      "text/plain": [
       "<IPython.core.display.HTML object>"
      ]
     },
     "metadata": {},
     "output_type": "display_data"
    },
    {
     "data": {
      "text/plain": []
     },
     "execution_count": 4,
     "metadata": {},
     "output_type": "execute_result"
    }
   ],
   "source": [
    "import pandas as pd\n",
    "import os\n",
    "import numpy as np\n",
    "import openai\n",
    "import gradio as gr\n",
    "from dotenv import load_dotenv\n",
    "\n",
    "# Load environment variables from .env file\n",
    "load_dotenv()\n",
    "\n",
    "OPENAI_API_KEY = os.getenv(\"OPENAI_API_KEY\")\n",
    "openai.api_key = OPENAI_API_KEY\n",
    "\n",
    "literary_score_df = pd.read_csv('Resources/literary_scored_superheroes.csv')\n",
    "\n",
    "def simulate_battle(score_a, score_b):\n",
    "    total_score = score_a + score_b\n",
    "    prob_a_wins = score_a / total_score\n",
    "    outcome = np.random.rand()  # Generates a random float between 0 and 1\n",
    "    return 1 if outcome < prob_a_wins else 0  # Returns 1 if A wins, 0 if B wins\n",
    "\n",
    "def describe_battle(hero1, hero2):\n",
    "    # Initialize scores to None to detect if heroes are found\n",
    "    score_a = None\n",
    "    score_b = None\n",
    "    \n",
    "    # Fetch scores for hero1 and hero2\n",
    "    for index, row in literary_score_df.iterrows():\n",
    "        # Check each hero in aliases\n",
    "        if hero1.lower() in row['aliases'].lower():\n",
    "            score_a = row['hero_total_score']\n",
    "        if hero2.lower() in row['aliases'].lower():\n",
    "            score_b = row['hero_total_score']\n",
    "\n",
    "    # Check if either hero was not found and return error message if so\n",
    "    if score_a is None or score_b is None:\n",
    "        return (\"One of the heroes not found in the dataset.\", \"\", None)\n",
    "\n",
    "    # Simulate battle outcome based on scores\n",
    "    winner = hero1 if simulate_battle(score_a, score_b) == 1 else hero2\n",
    "\n",
    "    # Generate the battle description using GPT\n",
    "    try:\n",
    "        response = openai.Completion.create(\n",
    "            model=\"gpt-3.5-turbo-instruct\",\n",
    "            prompt=f\"Describe an epic battle between {hero1} and {hero2}, where {winner} wins.\",\n",
    "            temperature=0.7,\n",
    "            max_tokens=500\n",
    "        )\n",
    "        battle_description = response.choices[0].text.strip()\n",
    "    except Exception as e:\n",
    "        return (\"Failed to generate description\", str(e), None)\n",
    "    \n",
    "    return (winner, battle_description, None)\n",
    "\n",
    "# Interface setup\n",
    "iface = gr.Interface(\n",
    "    fn=describe_battle,\n",
    "    inputs=[gr.Dropdown(label=\"Hero 1\"), gr.Dropdown(label=\"Hero 2\")],\n",
    "    outputs=[gr.Textbox(label=\"Winner\"), gr.Textbox(label=\"Battle Description\")]\n",
    ")\n",
    "\n",
    "iface.launch()\n"
   ]
  },
  {
   "cell_type": "code",
   "execution_count": 6,
   "metadata": {},
   "outputs": [
    {
     "name": "stdout",
     "output_type": "stream",
     "text": [
      "Running on local URL:  http://127.0.0.1:7863\n",
      "\n",
      "To create a public link, set `share=True` in `launch()`.\n"
     ]
    },
    {
     "data": {
      "text/html": [
       "<div><iframe src=\"http://127.0.0.1:7863/\" width=\"100%\" height=\"500\" allow=\"autoplay; camera; microphone; clipboard-read; clipboard-write;\" frameborder=\"0\" allowfullscreen></iframe></div>"
      ],
      "text/plain": [
       "<IPython.core.display.HTML object>"
      ]
     },
     "metadata": {},
     "output_type": "display_data"
    },
    {
     "data": {
      "text/plain": []
     },
     "execution_count": 6,
     "metadata": {},
     "output_type": "execute_result"
    },
    {
     "name": "stderr",
     "output_type": "stream",
     "text": [
      "Traceback (most recent call last):\n",
      "  File \"c:\\Users\\Robert\\.conda\\envs\\dev\\lib\\site-packages\\gradio\\queueing.py\", line 522, in process_events\n",
      "    response = await route_utils.call_process_api(\n",
      "  File \"c:\\Users\\Robert\\.conda\\envs\\dev\\lib\\site-packages\\gradio\\route_utils.py\", line 260, in call_process_api\n",
      "    output = await app.get_blocks().process_api(\n",
      "  File \"c:\\Users\\Robert\\.conda\\envs\\dev\\lib\\site-packages\\gradio\\blocks.py\", line 1689, in process_api\n",
      "    result = await self.call_function(\n",
      "  File \"c:\\Users\\Robert\\.conda\\envs\\dev\\lib\\site-packages\\gradio\\blocks.py\", line 1255, in call_function\n",
      "    prediction = await anyio.to_thread.run_sync(\n",
      "  File \"c:\\Users\\Robert\\.conda\\envs\\dev\\lib\\site-packages\\anyio\\to_thread.py\", line 28, in run_sync\n",
      "    return await get_asynclib().run_sync_in_worker_thread(func, *args, cancellable=cancellable,\n",
      "  File \"c:\\Users\\Robert\\.conda\\envs\\dev\\lib\\site-packages\\anyio\\_backends\\_asyncio.py\", line 818, in run_sync_in_worker_thread\n",
      "    return await future\n",
      "  File \"c:\\Users\\Robert\\.conda\\envs\\dev\\lib\\site-packages\\anyio\\_backends\\_asyncio.py\", line 754, in run\n",
      "    result = context.run(func, *args)\n",
      "  File \"c:\\Users\\Robert\\.conda\\envs\\dev\\lib\\site-packages\\gradio\\utils.py\", line 750, in wrapper\n",
      "    response = f(*args, **kwargs)\n",
      "  File \"C:\\Users\\Robert\\AppData\\Local\\Temp\\ipykernel_113792\\3597378132.py\", line 35, in describe_battle\n",
      "    if hero2.lower() in row['aliases'].lower():\n",
      "AttributeError: 'list' object has no attribute 'lower'\n"
     ]
    }
   ],
   "source": [
    "import pandas as pd\n",
    "import os\n",
    "import numpy as np\n",
    "import openai\n",
    "import gradio as gr\n",
    "from dotenv import load_dotenv\n",
    "from PIL import Image\n",
    "import requests\n",
    "from io import BytesIO\n",
    "\n",
    "# Load environment variables from .env file\n",
    "load_dotenv()\n",
    "\n",
    "OPENAI_API_KEY = os.getenv(\"OPENAI_API_KEY\")\n",
    "openai.api_key = OPENAI_API_KEY\n",
    "\n",
    "literary_score_df = pd.read_csv('Resources/literary_scored_superheroes.csv')\n",
    "\n",
    "def simulate_battle(score_a, score_b):\n",
    "    total_score = score_a + score_b\n",
    "    prob_a_wins = score_a / total_score\n",
    "    outcome = np.random.rand()  # Generates a random float between 0 and 1\n",
    "    return 1 if outcome < prob_a_wins else 0  # Returns 1 if A wins, 0 if B wins\n",
    "\n",
    "def describe_battle(hero1, hero2):\n",
    "    # Initialize scores to None to detect if heroes are found\n",
    "    score_a = None\n",
    "    score_b = None\n",
    "    \n",
    "    # Fetch scores for hero1 and hero2\n",
    "    for index, row in literary_score_df.iterrows():\n",
    "        # Check each hero in aliases\n",
    "        if hero1.lower() in row['aliases'].lower():\n",
    "            score_a = row['hero_total_score']\n",
    "        if hero2.lower() in row['aliases'].lower():\n",
    "            score_b = row['hero_total_score']\n",
    "\n",
    "    # Check if either hero was not found and return error message if so\n",
    "    if score_a is None or score_b is None:\n",
    "        return (\"One of the heroes not found in the dataset.\", \"\", None, None)\n",
    "\n",
    "    # Simulate battle outcome based on scores\n",
    "    winner = hero1 if simulate_battle(score_a, score_b) == 1 else hero2\n",
    "\n",
    "    # Generate the battle description using GPT\n",
    "    try:\n",
    "        response = openai.Completion.create(\n",
    "            model=\"gpt-3.5-turbo-instruct\",\n",
    "            prompt=f\"Describe an epic battle between {hero1} and {hero2}, where {winner} wins within openai safety guidelines.\",\n",
    "            temperature=0.7,\n",
    "            max_tokens=500\n",
    "        )\n",
    "        battle_description = response.choices[0].text.strip()\n",
    "\n",
    "        # Generate an image based on the battle description\n",
    "        image_response = openai.Image.create(\n",
    "            model=\"dall-e-3\",\n",
    "            prompt=battle_description,\n",
    "            n=1,\n",
    "            size=\"1024x1024\"\n",
    "        )\n",
    "        image_url = image_response['data'][0]['url']\n",
    "        image_data = requests.get(image_url).content\n",
    "        image = Image.open(BytesIO(image_data))\n",
    "    except Exception as e:\n",
    "        return (\"Failed to generate description or image\", str(e), None, None)\n",
    "    \n",
    "    return (winner, battle_description, image)\n",
    "heroes=list(literary_score_df['name'])\n",
    "# Interface setup\n",
    "iface = gr.Interface(\n",
    "    fn=describe_battle,\n",
    "    inputs=[gr.Dropdown(heroes, label='Hero 1'),gr.Dropdown(heroes, label='Hero 2') ],\n",
    "    outputs=[gr.Textbox(label=\"Winner\"), gr.Textbox(label=\"Battle Description\"), gr.Image(label=\"Battle Image\")]\n",
    ")\n",
    "\n",
    "iface.launch()\n"
   ]
  },
  {
   "cell_type": "code",
   "execution_count": 2,
   "metadata": {},
   "outputs": [
    {
     "name": "stdout",
     "output_type": "stream",
     "text": [
      "Running on local URL:  http://127.0.0.1:7860\n",
      "\n",
      "To create a public link, set `share=True` in `launch()`.\n"
     ]
    },
    {
     "data": {
      "text/html": [
       "<div><iframe src=\"http://127.0.0.1:7860/\" width=\"100%\" height=\"500\" allow=\"autoplay; camera; microphone; clipboard-read; clipboard-write;\" frameborder=\"0\" allowfullscreen></iframe></div>"
      ],
      "text/plain": [
       "<IPython.core.display.HTML object>"
      ]
     },
     "metadata": {},
     "output_type": "display_data"
    },
    {
     "data": {
      "text/plain": []
     },
     "execution_count": 2,
     "metadata": {},
     "output_type": "execute_result"
    }
   ],
   "source": [
    "import pandas as pd\n",
    "import os\n",
    "import numpy as np\n",
    "import openai\n",
    "import gradio as gr\n",
    "from dotenv import load_dotenv\n",
    "from PIL import Image\n",
    "import requests\n",
    "from io import BytesIO\n",
    "\n",
    "# Load environment variables from .env file\n",
    "load_dotenv(\"open_ai_key.env\")\n",
    "\n",
    "OPENAI_API_KEY = os.getenv(\"OPENAI_API_KEY\")\n",
    "openai.api_key = OPENAI_API_KEY\n",
    "\n",
    "literary_score_df = pd.read_csv('Resources/literary_scored_superheroes.csv')\n",
    "\n",
    "def simulate_battle(score_a, score_b):\n",
    "    total_score = score_a + score_b\n",
    "    prob_a_wins = score_a / total_score\n",
    "    outcome = np.random.rand()  # Generates a random float between 0 and 1\n",
    "    return 1 if outcome < prob_a_wins else 0  # Returns 1 if A wins, 0 if B wins\n",
    "\n",
    "def describe_battle(hero1, hero2):\n",
    "    # Initialize scores to None to detect if heroes are found\n",
    "    score_a = None\n",
    "    score_b = None\n",
    "    \n",
    "    # Fetch scores for hero1 and hero2\n",
    "    try:\n",
    "        score_a = literary_score_df.loc[literary_score_df['name'].str.lower() == hero1.lower(), 'hero_total_score'].iloc[0]\n",
    "        score_b = literary_score_df.loc[literary_score_df['name'].str.lower() == hero2.lower(), 'hero_total_score'].iloc[0]\n",
    "    except IndexError:\n",
    "        return \"One of the heroes not found in the dataset\", \"\"\n",
    "\n",
    "    # Check if either hero was not found and return error message if so\n",
    "    \n",
    "\n",
    "    # Simulate battle outcome based on scores\n",
    "    winner = hero1 if simulate_battle(score_a, score_b) == 1 else hero2\n",
    "\n",
    "    # Generate the battle description using GPT\n",
    "    try:\n",
    "        response = openai.Completion.create(\n",
    "            model=\"gpt-3.5-turbo-instruct\",\n",
    "            prompt=f\"Describe an epic battle between {hero1} and {hero2}, where {winner} wins within openai safety guidelines.\",\n",
    "            temperature=0.7,\n",
    "            max_tokens=500\n",
    "        )\n",
    "        battle_description = response.choices[0].text.strip()\n",
    "\n",
    "        # Generate an image based on the battle description\n",
    "        image_response = openai.Image.create(\n",
    "            model=\"dall-e-3\",\n",
    "            prompt=battle_description,\n",
    "            n=1,\n",
    "            size=\"1024x1024\"\n",
    "        )\n",
    "        image_url = image_response['data'][0]['url']\n",
    "        image_data = requests.get(image_url).content\n",
    "        image = Image.open(BytesIO(image_data))\n",
    "    except Exception as e:\n",
    "        return (\"Failed to generate description or image\", str(e), None, None)\n",
    "    \n",
    "    return (winner, battle_description, image)\n",
    "heroes=list(literary_score_df['name'])\n",
    "# Interface setup\n",
    "iface = gr.Interface(\n",
    "    fn=describe_battle,\n",
    "    inputs=[gr.Dropdown(heroes, label='Hero 1'),gr.Dropdown(heroes, label='Hero 2') ],\n",
    "    outputs=[gr.Textbox(label=\"Winner\"), gr.Textbox(label=\"Battle Description\"), gr.Image(label=\"Battle Image\")]\n",
    ")\n",
    "\n",
    "iface.launch()"
   ]
  },
  {
   "cell_type": "code",
   "execution_count": null,
   "metadata": {},
   "outputs": [],
   "source": []
  },
  {
   "cell_type": "code",
   "execution_count": null,
   "metadata": {},
   "outputs": [],
   "source": []
  }
 ],
 "metadata": {
  "kernelspec": {
   "display_name": "Python 3 (ipykernel)",
   "language": "python",
   "name": "python3"
  },
  "language_info": {
   "codemirror_mode": {
    "name": "ipython",
    "version": 3
   },
   "file_extension": ".py",
   "mimetype": "text/x-python",
   "name": "python",
   "nbconvert_exporter": "python",
   "pygments_lexer": "ipython3",
   "version": "3.11.5"
  }
 },
 "nbformat": 4,
 "nbformat_minor": 2
}
